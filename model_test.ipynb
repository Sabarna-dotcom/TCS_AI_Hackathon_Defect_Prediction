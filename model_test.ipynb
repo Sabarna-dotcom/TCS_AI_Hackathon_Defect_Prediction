{
 "cells": [
  {
   "cell_type": "code",
   "execution_count": 36,
   "id": "650833db",
   "metadata": {},
   "outputs": [],
   "source": [
    "import tensorflow as tf\n",
    "import pickle\n",
    "import numpy as np\n",
    "import pandas as pd\n",
    "import warnings\n",
    "warnings.filterwarnings(\"ignore\")"
   ]
  },
  {
   "cell_type": "code",
   "execution_count": 37,
   "id": "b8d52649",
   "metadata": {},
   "outputs": [],
   "source": [
    "## Load trained model, scaler, and encoders\n",
    "\n",
    "model=tf.keras.models.load_model('model.h5')\n",
    "\n",
    "with open('scaler.pkl', 'rb') as file:\n",
    "    scaler = pickle.load(file)\n",
    "\n",
    "with open('label_encoder.pkl', 'rb') as file:\n",
    "    label_encoder = pickle.load(file)\n",
    "\n",
    "with open('onehot_encoder_func.pkl', 'rb') as file:\n",
    "    onehot_encoder_func = pickle.load(file)\n",
    "\n",
    "with open('onehot_encoder_ST.pkl', 'rb') as file:\n",
    "    onehot_encoder_ST = pickle.load(file)\n",
    "\n",
    "with open('onehot_encoder_TN.pkl', 'rb') as file:\n",
    "    onehot_encoder_TN = pickle.load(file)\n"
   ]
  },
  {
   "cell_type": "code",
   "execution_count": 38,
   "id": "10728ff4",
   "metadata": {},
   "outputs": [],
   "source": [
    "\n",
    "## Example test data (multiple rows)\n",
    "\n",
    "test_data = {\n",
    "    'Functionality': 'Payment Gateway',\n",
    "    'Story_Type': 'API Gateway Changes',\n",
    "    'Core_Function': 'Yes',\n",
    "    'Affects_Workflow': 'Yes',\n",
    "    'Has_Workaround': 'No',\n",
    "    'Severity_Score': 8,\n",
    "    'Tester_Name': 'Alice',\n",
    "    'Time_Taken_Minutes': 35\n",
    "}\n"
   ]
  },
  {
   "cell_type": "code",
   "execution_count": 39,
   "id": "2b7217c9",
   "metadata": {},
   "outputs": [
    {
     "data": {
      "text/html": [
       "<div>\n",
       "<style scoped>\n",
       "    .dataframe tbody tr th:only-of-type {\n",
       "        vertical-align: middle;\n",
       "    }\n",
       "\n",
       "    .dataframe tbody tr th {\n",
       "        vertical-align: top;\n",
       "    }\n",
       "\n",
       "    .dataframe thead th {\n",
       "        text-align: right;\n",
       "    }\n",
       "</style>\n",
       "<table border=\"1\" class=\"dataframe\">\n",
       "  <thead>\n",
       "    <tr style=\"text-align: right;\">\n",
       "      <th></th>\n",
       "      <th>Functionality_Checkout</th>\n",
       "      <th>Functionality_Login</th>\n",
       "      <th>Functionality_Payment Gateway</th>\n",
       "      <th>Functionality_Profile Management</th>\n",
       "      <th>Functionality_Search</th>\n",
       "    </tr>\n",
       "  </thead>\n",
       "  <tbody>\n",
       "    <tr>\n",
       "      <th>0</th>\n",
       "      <td>0.0</td>\n",
       "      <td>0.0</td>\n",
       "      <td>1.0</td>\n",
       "      <td>0.0</td>\n",
       "      <td>0.0</td>\n",
       "    </tr>\n",
       "  </tbody>\n",
       "</table>\n",
       "</div>"
      ],
      "text/plain": [
       "   Functionality_Checkout  Functionality_Login  Functionality_Payment Gateway  \\\n",
       "0                     0.0                  0.0                            1.0   \n",
       "\n",
       "   Functionality_Profile Management  Functionality_Search  \n",
       "0                               0.0                   0.0  "
      ]
     },
     "execution_count": 39,
     "metadata": {},
     "output_type": "execute_result"
    }
   ],
   "source": [
    "## One-hot encode \n",
    "\n",
    "func_encoded = onehot_encoder_func.transform([[test_data['Functionality']]]).toarray()\n",
    "func_encoded_df = pd.DataFrame(func_encoded, columns=onehot_encoder_func.get_feature_names_out(['Functionality']))\n",
    "func_encoded_df \n"
   ]
  },
  {
   "cell_type": "code",
   "execution_count": 40,
   "id": "2590c020",
   "metadata": {},
   "outputs": [
    {
     "data": {
      "text/html": [
       "<div>\n",
       "<style scoped>\n",
       "    .dataframe tbody tr th:only-of-type {\n",
       "        vertical-align: middle;\n",
       "    }\n",
       "\n",
       "    .dataframe tbody tr th {\n",
       "        vertical-align: top;\n",
       "    }\n",
       "\n",
       "    .dataframe thead th {\n",
       "        text-align: right;\n",
       "    }\n",
       "</style>\n",
       "<table border=\"1\" class=\"dataframe\">\n",
       "  <thead>\n",
       "    <tr style=\"text-align: right;\">\n",
       "      <th></th>\n",
       "      <th>Story_Type_AEM Story</th>\n",
       "      <th>Story_Type_API Gateway Changes</th>\n",
       "      <th>Story_Type_Database Update</th>\n",
       "      <th>Story_Type_React Story</th>\n",
       "      <th>Story_Type_UI Enhancement</th>\n",
       "    </tr>\n",
       "  </thead>\n",
       "  <tbody>\n",
       "    <tr>\n",
       "      <th>0</th>\n",
       "      <td>0.0</td>\n",
       "      <td>1.0</td>\n",
       "      <td>0.0</td>\n",
       "      <td>0.0</td>\n",
       "      <td>0.0</td>\n",
       "    </tr>\n",
       "  </tbody>\n",
       "</table>\n",
       "</div>"
      ],
      "text/plain": [
       "   Story_Type_AEM Story  Story_Type_API Gateway Changes  \\\n",
       "0                   0.0                             1.0   \n",
       "\n",
       "   Story_Type_Database Update  Story_Type_React Story  \\\n",
       "0                         0.0                     0.0   \n",
       "\n",
       "   Story_Type_UI Enhancement  \n",
       "0                        0.0  "
      ]
     },
     "execution_count": 40,
     "metadata": {},
     "output_type": "execute_result"
    }
   ],
   "source": [
    "ST_encoded = onehot_encoder_ST.transform([[test_data['Story_Type']]]).toarray()\n",
    "ST_encoded_df = pd.DataFrame(ST_encoded, columns=onehot_encoder_ST.get_feature_names_out(['Story_Type']))\n",
    "ST_encoded_df"
   ]
  },
  {
   "cell_type": "code",
   "execution_count": 41,
   "id": "768b242f",
   "metadata": {},
   "outputs": [
    {
     "data": {
      "text/html": [
       "<div>\n",
       "<style scoped>\n",
       "    .dataframe tbody tr th:only-of-type {\n",
       "        vertical-align: middle;\n",
       "    }\n",
       "\n",
       "    .dataframe tbody tr th {\n",
       "        vertical-align: top;\n",
       "    }\n",
       "\n",
       "    .dataframe thead th {\n",
       "        text-align: right;\n",
       "    }\n",
       "</style>\n",
       "<table border=\"1\" class=\"dataframe\">\n",
       "  <thead>\n",
       "    <tr style=\"text-align: right;\">\n",
       "      <th></th>\n",
       "      <th>Tester_Name_Alice</th>\n",
       "      <th>Tester_Name_Bob</th>\n",
       "      <th>Tester_Name_Charlie</th>\n",
       "    </tr>\n",
       "  </thead>\n",
       "  <tbody>\n",
       "    <tr>\n",
       "      <th>0</th>\n",
       "      <td>1.0</td>\n",
       "      <td>0.0</td>\n",
       "      <td>0.0</td>\n",
       "    </tr>\n",
       "  </tbody>\n",
       "</table>\n",
       "</div>"
      ],
      "text/plain": [
       "   Tester_Name_Alice  Tester_Name_Bob  Tester_Name_Charlie\n",
       "0                1.0              0.0                  0.0"
      ]
     },
     "execution_count": 41,
     "metadata": {},
     "output_type": "execute_result"
    }
   ],
   "source": [
    "TN_encoded = onehot_encoder_TN.transform([[test_data['Tester_Name']]]).toarray()\n",
    "TN_encoded_df = pd.DataFrame(TN_encoded, columns=onehot_encoder_TN.get_feature_names_out(['Tester_Name']))\n",
    "TN_encoded_df"
   ]
  },
  {
   "cell_type": "code",
   "execution_count": 42,
   "id": "7bae9823",
   "metadata": {},
   "outputs": [
    {
     "data": {
      "text/html": [
       "<div>\n",
       "<style scoped>\n",
       "    .dataframe tbody tr th:only-of-type {\n",
       "        vertical-align: middle;\n",
       "    }\n",
       "\n",
       "    .dataframe tbody tr th {\n",
       "        vertical-align: top;\n",
       "    }\n",
       "\n",
       "    .dataframe thead th {\n",
       "        text-align: right;\n",
       "    }\n",
       "</style>\n",
       "<table border=\"1\" class=\"dataframe\">\n",
       "  <thead>\n",
       "    <tr style=\"text-align: right;\">\n",
       "      <th></th>\n",
       "      <th>Functionality</th>\n",
       "      <th>Story_Type</th>\n",
       "      <th>Core_Function</th>\n",
       "      <th>Affects_Workflow</th>\n",
       "      <th>Has_Workaround</th>\n",
       "      <th>Severity_Score</th>\n",
       "      <th>Tester_Name</th>\n",
       "      <th>Time_Taken_Minutes</th>\n",
       "    </tr>\n",
       "  </thead>\n",
       "  <tbody>\n",
       "    <tr>\n",
       "      <th>0</th>\n",
       "      <td>Payment Gateway</td>\n",
       "      <td>API Gateway Changes</td>\n",
       "      <td>Yes</td>\n",
       "      <td>Yes</td>\n",
       "      <td>No</td>\n",
       "      <td>8</td>\n",
       "      <td>Alice</td>\n",
       "      <td>35</td>\n",
       "    </tr>\n",
       "  </tbody>\n",
       "</table>\n",
       "</div>"
      ],
      "text/plain": [
       "     Functionality           Story_Type Core_Function Affects_Workflow  \\\n",
       "0  Payment Gateway  API Gateway Changes           Yes              Yes   \n",
       "\n",
       "  Has_Workaround  Severity_Score Tester_Name  Time_Taken_Minutes  \n",
       "0             No               8       Alice                  35  "
      ]
     },
     "execution_count": 42,
     "metadata": {},
     "output_type": "execute_result"
    }
   ],
   "source": [
    "input_df=pd.DataFrame([test_data])\n",
    "input_df"
   ]
  },
  {
   "cell_type": "code",
   "execution_count": 43,
   "id": "202aaaf5",
   "metadata": {},
   "outputs": [],
   "source": [
    "## Encode categorical variables\n",
    "\n",
    "categorical_cols = ['Core_Function', 'Affects_Workflow', 'Has_Workaround']\n",
    "for col in categorical_cols:\n",
    "    input_df[col] = label_encoder.transform(input_df[col])"
   ]
  },
  {
   "cell_type": "code",
   "execution_count": 44,
   "id": "4c317977",
   "metadata": {},
   "outputs": [],
   "source": [
    "input_df=pd.concat([input_df.drop(\"Functionality\",axis=1),func_encoded_df],axis=1)"
   ]
  },
  {
   "cell_type": "code",
   "execution_count": 45,
   "id": "9ba15b7d",
   "metadata": {},
   "outputs": [],
   "source": [
    "input_df=pd.concat([input_df.drop(\"Story_Type\",axis=1),ST_encoded_df],axis=1)"
   ]
  },
  {
   "cell_type": "code",
   "execution_count": 46,
   "id": "75f48985",
   "metadata": {},
   "outputs": [],
   "source": [
    "input_df=pd.concat([input_df.drop(\"Tester_Name\",axis=1),TN_encoded_df],axis=1)"
   ]
  },
  {
   "cell_type": "code",
   "execution_count": 47,
   "id": "d67c8163",
   "metadata": {},
   "outputs": [
    {
     "data": {
      "text/html": [
       "<div>\n",
       "<style scoped>\n",
       "    .dataframe tbody tr th:only-of-type {\n",
       "        vertical-align: middle;\n",
       "    }\n",
       "\n",
       "    .dataframe tbody tr th {\n",
       "        vertical-align: top;\n",
       "    }\n",
       "\n",
       "    .dataframe thead th {\n",
       "        text-align: right;\n",
       "    }\n",
       "</style>\n",
       "<table border=\"1\" class=\"dataframe\">\n",
       "  <thead>\n",
       "    <tr style=\"text-align: right;\">\n",
       "      <th></th>\n",
       "      <th>Core_Function</th>\n",
       "      <th>Affects_Workflow</th>\n",
       "      <th>Has_Workaround</th>\n",
       "      <th>Severity_Score</th>\n",
       "      <th>Time_Taken_Minutes</th>\n",
       "      <th>Functionality_Checkout</th>\n",
       "      <th>Functionality_Login</th>\n",
       "      <th>Functionality_Payment Gateway</th>\n",
       "      <th>Functionality_Profile Management</th>\n",
       "      <th>Functionality_Search</th>\n",
       "      <th>Story_Type_AEM Story</th>\n",
       "      <th>Story_Type_API Gateway Changes</th>\n",
       "      <th>Story_Type_Database Update</th>\n",
       "      <th>Story_Type_React Story</th>\n",
       "      <th>Story_Type_UI Enhancement</th>\n",
       "      <th>Tester_Name_Alice</th>\n",
       "      <th>Tester_Name_Bob</th>\n",
       "      <th>Tester_Name_Charlie</th>\n",
       "    </tr>\n",
       "  </thead>\n",
       "  <tbody>\n",
       "    <tr>\n",
       "      <th>0</th>\n",
       "      <td>1</td>\n",
       "      <td>1</td>\n",
       "      <td>0</td>\n",
       "      <td>8</td>\n",
       "      <td>35</td>\n",
       "      <td>0.0</td>\n",
       "      <td>0.0</td>\n",
       "      <td>1.0</td>\n",
       "      <td>0.0</td>\n",
       "      <td>0.0</td>\n",
       "      <td>0.0</td>\n",
       "      <td>1.0</td>\n",
       "      <td>0.0</td>\n",
       "      <td>0.0</td>\n",
       "      <td>0.0</td>\n",
       "      <td>1.0</td>\n",
       "      <td>0.0</td>\n",
       "      <td>0.0</td>\n",
       "    </tr>\n",
       "  </tbody>\n",
       "</table>\n",
       "</div>"
      ],
      "text/plain": [
       "   Core_Function  Affects_Workflow  Has_Workaround  Severity_Score  \\\n",
       "0              1                 1               0               8   \n",
       "\n",
       "   Time_Taken_Minutes  Functionality_Checkout  Functionality_Login  \\\n",
       "0                  35                     0.0                  0.0   \n",
       "\n",
       "   Functionality_Payment Gateway  Functionality_Profile Management  \\\n",
       "0                            1.0                               0.0   \n",
       "\n",
       "   Functionality_Search  Story_Type_AEM Story  Story_Type_API Gateway Changes  \\\n",
       "0                   0.0                   0.0                             1.0   \n",
       "\n",
       "   Story_Type_Database Update  Story_Type_React Story  \\\n",
       "0                         0.0                     0.0   \n",
       "\n",
       "   Story_Type_UI Enhancement  Tester_Name_Alice  Tester_Name_Bob  \\\n",
       "0                        0.0                1.0              0.0   \n",
       "\n",
       "   Tester_Name_Charlie  \n",
       "0                  0.0  "
      ]
     },
     "execution_count": 47,
     "metadata": {},
     "output_type": "execute_result"
    }
   ],
   "source": [
    "input_df"
   ]
  },
  {
   "cell_type": "code",
   "execution_count": 48,
   "id": "0dd22297",
   "metadata": {},
   "outputs": [
    {
     "data": {
      "text/plain": [
       "array([[ 1.13389342,  1.79179416, -1.88982237,  2.62625739,  0.84253382,\n",
       "        -0.4404882 , -0.51946248,  2.12538029, -0.58697344, -0.48038446,\n",
       "        -0.60623541,  2.081666  , -0.42008403, -0.48038446, -0.50974751,\n",
       "         1.38169856, -0.65465367, -0.74390729]])"
      ]
     },
     "execution_count": 48,
     "metadata": {},
     "output_type": "execute_result"
    }
   ],
   "source": [
    "## Scaling the input data\n",
    "\n",
    "input_scaled=scaler.transform(input_df)\n",
    "input_scaled"
   ]
  },
  {
   "cell_type": "code",
   "execution_count": null,
   "id": "92a29a03",
   "metadata": {},
   "outputs": [
    {
     "name": "stdout",
     "output_type": "stream",
     "text": [
      "1/1 [==============================] - 0s 88ms/step\n"
     ]
    },
    {
     "data": {
      "text/plain": [
       "array([[0.4665173 , 0.03436855, 0.00529977, 0.49381435]], dtype=float32)"
      ]
     },
     "execution_count": 49,
     "metadata": {},
     "output_type": "execute_result"
    }
   ],
   "source": [
    "## Predict\n",
    "\n",
    "prediction=model.predict(input_scaled)\n",
    "prediction"
   ]
  },
  {
   "cell_type": "code",
   "execution_count": null,
   "id": "bb843296",
   "metadata": {},
   "outputs": [
    {
     "name": "stdout",
     "output_type": "stream",
     "text": [
      "Predicted class: P1\n",
      "Probability: 0.49\n"
     ]
    }
   ],
   "source": [
    "predicted_class = np.argmax(prediction)  # index of highest prob\n",
    "class_names = [\"No Issues\", \"P1\", \"P2\", \"P3\"]  # your label order\n",
    "\n",
    "print(f\"Predicted class: {class_names[predicted_class]}\")\n",
    "print(f\"Probability: {prediction[0][predicted_class]:.2f}\")"
   ]
  }
 ],
 "metadata": {
  "kernelspec": {
   "display_name": "Python 3",
   "language": "python",
   "name": "python3"
  },
  "language_info": {
   "codemirror_mode": {
    "name": "ipython",
    "version": 3
   },
   "file_extension": ".py",
   "mimetype": "text/x-python",
   "name": "python",
   "nbconvert_exporter": "python",
   "pygments_lexer": "ipython3",
   "version": "3.11.0"
  }
 },
 "nbformat": 4,
 "nbformat_minor": 5
}
